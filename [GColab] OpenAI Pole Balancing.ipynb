{
  "nbformat": 4,
  "nbformat_minor": 0,
  "metadata": {
    "kernelspec": {
      "name": "python3",
      "display_name": "Python 3"
    },
    "language_info": {
      "codemirror_mode": {
        "name": "ipython",
        "version": 3
      },
      "file_extension": ".py",
      "mimetype": "text/x-python",
      "name": "python",
      "nbconvert_exporter": "python",
      "pygments_lexer": "ipython3",
      "version": "3.7.4"
    },
    "colab": {
      "name": "OpenAI Pole Balancing.ipynb",
      "provenance": [],
      "include_colab_link": true
    },
    "accelerator": "TPU"
  },
  "cells": [
    {
      "cell_type": "markdown",
      "metadata": {
        "id": "view-in-github",
        "colab_type": "text"
      },
      "source": [
        "<a href=\"https://colab.research.google.com/github/iam-sr13/IN-792-RL/blob/master/%5BGColab%5D%20OpenAI%20Pole%20Balancing.ipynb\" target=\"_parent\"><img src=\"https://colab.research.google.com/assets/colab-badge.svg\" alt=\"Open In Colab\"/></a>"
      ]
    },
    {
      "cell_type": "markdown",
      "metadata": {
        "id": "rxgYe3ADtJcC",
        "colab_type": "text"
      },
      "source": [
        "# Reinforcement Learning Simulation in OpenAI Gym Environment"
      ]
    },
    {
      "cell_type": "markdown",
      "metadata": {
        "id": "IlER94WotJcJ",
        "colab_type": "text"
      },
      "source": [
        "## 1. CartPole-v1\n",
        "\n",
        "![ezgif.com-video-to-gif.gif](attachment:ezgif.com-video-to-gif.gif)"
      ]
    },
    {
      "cell_type": "code",
      "metadata": {
        "id": "xbtedA4w5DUP",
        "colab_type": "code",
        "colab": {}
      },
      "source": [
        "!apt-get install -y xvfb python-opengl > /dev/null 2>&1"
      ],
      "execution_count": 0,
      "outputs": []
    },
    {
      "cell_type": "code",
      "metadata": {
        "id": "wg1AZkqh7laG",
        "colab_type": "code",
        "colab": {
          "base_uri": "https://localhost:8080/",
          "height": 153
        },
        "outputId": "326c0758-8c73-461f-eff9-cbaab6948f02"
      },
      "source": [
        "!apt-get install python-opengl"
      ],
      "execution_count": 2,
      "outputs": [
        {
          "output_type": "stream",
          "text": [
            "Reading package lists... Done\n",
            "Building dependency tree       \n",
            "Reading state information... Done\n",
            "python-opengl is already the newest version (3.1.0+dfsg-1).\n",
            "The following package was automatically installed and is no longer required:\n",
            "  libnvidia-common-430\n",
            "Use 'apt autoremove' to remove it.\n",
            "0 upgraded, 0 newly installed, 0 to remove and 7 not upgraded.\n"
          ],
          "name": "stdout"
        }
      ]
    },
    {
      "cell_type": "code",
      "metadata": {
        "id": "yiWbZE2C6Kfm",
        "colab_type": "code",
        "colab": {
          "base_uri": "https://localhost:8080/",
          "height": 153
        },
        "outputId": "49b47598-d689-45b5-bb9b-0803d70d45af"
      },
      "source": [
        "!apt-get install x11-utils"
      ],
      "execution_count": 3,
      "outputs": [
        {
          "output_type": "stream",
          "text": [
            "Reading package lists... Done\n",
            "Building dependency tree       \n",
            "Reading state information... Done\n",
            "x11-utils is already the newest version (7.7+3build1).\n",
            "The following package was automatically installed and is no longer required:\n",
            "  libnvidia-common-430\n",
            "Use 'apt autoremove' to remove it.\n",
            "0 upgraded, 0 newly installed, 0 to remove and 7 not upgraded.\n"
          ],
          "name": "stdout"
        }
      ]
    },
    {
      "cell_type": "code",
      "metadata": {
        "id": "tqxwRXbD5IbK",
        "colab_type": "code",
        "colab": {}
      },
      "source": [
        "!pip install gym pyvirtualdisplay > /dev/null 2>&1"
      ],
      "execution_count": 0,
      "outputs": []
    },
    {
      "cell_type": "code",
      "metadata": {
        "id": "YwzEf0Lg0RUI",
        "colab_type": "code",
        "colab": {
          "base_uri": "https://localhost:8080/",
          "height": 34
        },
        "outputId": "b20d6645-73b9-46e4-8124-d161b6f7bd3d"
      },
      "source": [
        "!git clone https://github.com/openai/gym.git\n"
      ],
      "execution_count": 5,
      "outputs": [
        {
          "output_type": "stream",
          "text": [
            "fatal: destination path 'gym' already exists and is not an empty directory.\n"
          ],
          "name": "stdout"
        }
      ]
    },
    {
      "cell_type": "code",
      "metadata": {
        "id": "Asa7owho0hBO",
        "colab_type": "code",
        "colab": {
          "base_uri": "https://localhost:8080/",
          "height": 34
        },
        "outputId": "22ce57a3-fb3e-4bec-8926-fb27f8cd39c3"
      },
      "source": [
        "%cd gym"
      ],
      "execution_count": 6,
      "outputs": [
        {
          "output_type": "stream",
          "text": [
            "/content/gym\n"
          ],
          "name": "stdout"
        }
      ]
    },
    {
      "cell_type": "code",
      "metadata": {
        "id": "Wjtl0Iia00BL",
        "colab_type": "code",
        "colab": {
          "base_uri": "https://localhost:8080/",
          "height": 289
        },
        "outputId": "b04ccc34-239a-4cdc-f4d7-708462339d70"
      },
      "source": [
        "!ls\n",
        "!pip install -e ."
      ],
      "execution_count": 7,
      "outputs": [
        {
          "output_type": "stream",
          "text": [
            "bin\t\t     examples\t   LICENSE.md\t  scripts   vendor\n",
            "CODE_OF_CONDUCT.rst  gym\t   py.Dockerfile  setup.py  videos\n",
            "docs\t\t     gym.egg-info  README.rst\t  tests\n",
            "Obtaining file:///content/gym\n",
            "Requirement already satisfied: scipy in /usr/local/lib/python3.6/dist-packages (from gym==0.15.4) (1.4.1)\n",
            "Requirement already satisfied: numpy>=1.10.4 in /usr/local/lib/python3.6/dist-packages (from gym==0.15.4) (1.17.5)\n",
            "Requirement already satisfied: six in /usr/local/lib/python3.6/dist-packages (from gym==0.15.4) (1.12.0)\n",
            "Requirement already satisfied: pyglet<=1.3.2,>=1.2.0 in /usr/local/lib/python3.6/dist-packages (from gym==0.15.4) (1.3.2)\n",
            "Requirement already satisfied: cloudpickle~=1.2.0 in /usr/local/lib/python3.6/dist-packages (from gym==0.15.4) (1.2.2)\n",
            "Requirement already satisfied: opencv-python in /usr/local/lib/python3.6/dist-packages (from gym==0.15.4) (4.1.2.30)\n",
            "Requirement already satisfied: future in /usr/local/lib/python3.6/dist-packages (from pyglet<=1.3.2,>=1.2.0->gym==0.15.4) (0.16.0)\n",
            "Installing collected packages: gym\n",
            "  Found existing installation: gym 0.15.4\n",
            "    Can't uninstall 'gym'. No files were found to uninstall.\n",
            "  Running setup.py develop for gym\n",
            "Successfully installed gym\n"
          ],
          "name": "stdout"
        }
      ]
    },
    {
      "cell_type": "code",
      "metadata": {
        "id": "A8MndtR6tJcL",
        "colab_type": "code",
        "colab": {
          "base_uri": "https://localhost:8080/",
          "height": 85
        },
        "outputId": "b4f67c24-4c71-4e98-b8d0-771f55023621"
      },
      "source": [
        "import gym \n",
        "import random\n",
        "import math\n",
        "import time\n",
        "import numpy as np\n",
        "import pandas as pd\n",
        "\n",
        "from IPython import display as ipydisplay\n",
        "import matplotlib\n",
        "import matplotlib.pyplot as plt\n",
        "%matplotlib inline\n",
        "from pyvirtualdisplay import Display\n",
        "display = Display(visible=0, size=(400, 300))\n",
        "display.start()\n",
        "\n",
        "env = gym.make(\"CartPole-v1\")\n",
        "env = gym.wrappers.Monitor(env, './videos/' + str(time.time()) + '/', force = True)\n",
        "print(env.observation_space)\n",
        "print(env.action_space)"
      ],
      "execution_count": 8,
      "outputs": [
        {
          "output_type": "stream",
          "text": [
            "Box(4,)\n",
            "Discrete(2)\n"
          ],
          "name": "stdout"
        },
        {
          "output_type": "stream",
          "text": [
            "/content/gym/gym/logger.py:30: UserWarning: \u001b[33mWARN: Box bound precision lowered by casting to float32\u001b[0m\n",
            "  warnings.warn(colorize('%s: %s'%('WARN', msg % args), 'yellow'))\n"
          ],
          "name": "stderr"
        }
      ]
    },
    {
      "cell_type": "code",
      "metadata": {
        "id": "V1FQnwwN0wjI",
        "colab_type": "code",
        "colab": {}
      },
      "source": [
        ""
      ],
      "execution_count": 0,
      "outputs": []
    },
    {
      "cell_type": "code",
      "metadata": {
        "id": "G-hcMmdgtJcV",
        "colab_type": "code",
        "colab": {
          "base_uri": "https://localhost:8080/",
          "height": 51
        },
        "outputId": "13b54ffd-f478-4872-e83e-5be1831345e5"
      },
      "source": [
        "class Agent():\n",
        "    def __init__(self, env):\n",
        "        self.is_discrete = type(env.action_space) == gym.spaces.discrete.Discrete\n",
        "        self.env_discrete = type(env.observation_space) == gym.spaces.discrete.Discrete\n",
        "        \n",
        "        if self.is_discrete:\n",
        "            self.action_size = env.action_space.n\n",
        "            print(\"||Action-Space|| = {}\".format(self.action_size))\n",
        "        else:\n",
        "            self.action_low = env.action_space.low\n",
        "            self.action_high = env.action_space.high\n",
        "            self.action_shape = env.action_space.shape\n",
        "            print(\"||Action-Space|| range:\", self.action_low, self.action_high)\n",
        "            \n",
        "        if self.env_discrete:\n",
        "            self.state_size = env.observation_space.n\n",
        "            print(\"||State-Space|| = {}\".format(self.state_size))\n",
        "        else:\n",
        "            self.state_low = env.observation_space.low\n",
        "            self.state_high = env.observation_space.high\n",
        "            self.state_shape = env.observation_space.shape\n",
        "            print(\"||State-Space|| range:\", self.state_low, self.state_high)      \n",
        "        \n",
        "        self.states = env.observation_space\n",
        "        self.actions = env.action_space        \n",
        "    \n",
        "    def get_action_random(self, state):\n",
        "        if self.is_discrete:\n",
        "            action = random.choice(range(self.action_size))\n",
        "        else:\n",
        "            action = np.random.uniform(self.action_low, self.action_high, self.action_shape)\n",
        "        return action\n",
        "    \n",
        "    def get_action(self, state):\n",
        "        pole_angle = state[2]\n",
        "        action = 0 if pole_angle < 0 else 1\n",
        "        return action\n",
        "    \n",
        "myagent = Agent(env)"
      ],
      "execution_count": 9,
      "outputs": [
        {
          "output_type": "stream",
          "text": [
            "||Action-Space|| = 2\n",
            "||State-Space|| range: [-4.8000002e+00 -3.4028235e+38 -4.1887903e-01 -3.4028235e+38] [4.8000002e+00 3.4028235e+38 4.1887903e-01 3.4028235e+38]\n"
          ],
          "name": "stdout"
        }
      ]
    },
    {
      "cell_type": "code",
      "metadata": {
        "id": "c13u-91-tJcb",
        "colab_type": "code",
        "colab": {
          "base_uri": "https://localhost:8080/",
          "height": 320
        },
        "outputId": "b1da5ce9-849d-4659-d531-a71172f11bf2"
      },
      "source": [
        "n = int(input(\"Enter the no. of episodes for simulation: \"))\n",
        "\n",
        "for episode in range(n):\n",
        "    state = env.reset()\n",
        "    img = plt.imshow(env.render(mode='rgb_array'))\n",
        "    for t in range(10000):\n",
        "        #env.render()\n",
        "        img.set_data(env.render(mode='rgb_array')) # just update the data\n",
        "        ipydisplay.display(plt.gcf())\n",
        "        ipydisplay.clear_output(wait=True)\n",
        "        print(\"In State: \", state)\n",
        "        action = myagent.get_action(state)\n",
        "        state, reward, done, info = env.step(action)\n",
        "        if done:\n",
        "            print(\"Episode {} done in {} timesteps!\\n\".format(episode+1, t+1))\n",
        "            break\n",
        "    else:\n",
        "        print(\"Episode {} NOT done in limit of {} timesteps! Agent Terminated!\\n\".format(episode+1, t+1))\n",
        "    \n",
        "env.close()   "
      ],
      "execution_count": 10,
      "outputs": [
        {
          "output_type": "stream",
          "text": [
            "In State:  [ 0.19857834  0.38322373 -0.20424351 -0.40841855]\n",
            "Episode 5 done in 37 timesteps!\n",
            "\n"
          ],
          "name": "stdout"
        },
        {
          "output_type": "display_data",
          "data": {
            "image/png": "[encoded data removed]",
            "text/plain": [
              "<Figure size 432x288 with 1 Axes>"
            ]
          },
          "metadata": {
            "tags": []
          }
        }
      ]
    },
    {
      "cell_type": "code",
      "metadata": {
        "id": "Ocj65exC_caS",
        "colab_type": "code",
        "colab": {
          "base_uri": "https://localhost:8080/",
          "height": 850
        },
        "outputId": "4c879d6d-6231-4feb-c6ad-25aafbc98350"
      },
      "source": [
        "print(env.render(mode='rgb_array'))"
      ],
      "execution_count": 11,
      "outputs": [
        {
          "output_type": "stream",
          "text": [
            "[[[255 255 255]\n",
            "  [255 255 255]\n",
            "  [255 255 255]\n",
            "  ...\n",
            "  [255 255 255]\n",
            "  [255 255 255]\n",
            "  [255 255 255]]\n",
            "\n",
            " [[255 255 255]\n",
            "  [255 255 255]\n",
            "  [255 255 255]\n",
            "  ...\n",
            "  [255 255 255]\n",
            "  [255 255 255]\n",
            "  [255 255 255]]\n",
            "\n",
            " [[255 255 255]\n",
            "  [255 255 255]\n",
            "  [255 255 255]\n",
            "  ...\n",
            "  [255 255 255]\n",
            "  [255 255 255]\n",
            "  [255 255 255]]\n",
            "\n",
            " ...\n",
            "\n",
            " [[255 255 255]\n",
            "  [255 255 255]\n",
            "  [255 255 255]\n",
            "  ...\n",
            "  [255 255 255]\n",
            "  [255 255 255]\n",
            "  [255 255 255]]\n",
            "\n",
            " [[255 255 255]\n",
            "  [255 255 255]\n",
            "  [255 255 255]\n",
            "  ...\n",
            "  [255 255 255]\n",
            "  [255 255 255]\n",
            "  [255 255 255]]\n",
            "\n",
            " [[255 255 255]\n",
            "  [255 255 255]\n",
            "  [255 255 255]\n",
            "  ...\n",
            "  [255 255 255]\n",
            "  [255 255 255]\n",
            "  [255 255 255]]]\n"
          ],
          "name": "stdout"
        }
      ]
    },
    {
      "cell_type": "markdown",
      "metadata": {
        "id": "2kIGiVnHtJcg",
        "colab_type": "text"
      },
      "source": [
        ""
      ]
    },
    {
      "cell_type": "markdown",
      "metadata": {
        "id": "Cq1lu2TgtJch",
        "colab_type": "text"
      },
      "source": [
        "## Q Learning\n",
        "\n",
        "![ezgif.com-video-to-gif.gif](attachment:ezgif.com-video-to-gif.gif)"
      ]
    },
    {
      "cell_type": "code",
      "metadata": {
        "id": "PiiEsGPutJcj",
        "colab_type": "code",
        "colab": {
          "base_uri": "https://localhost:8080/",
          "height": 102
        },
        "outputId": "12c9e6e1-63cb-44db-81fe-2bf23338d9d6"
      },
      "source": [
        "env = gym.make(\"CartPole-v1\")\n",
        "env = gym.wrappers.Monitor(env, './videos/' + str(time.time()) + '/', force = True)\n",
        "\n",
        "class QLAgent(Agent):\n",
        "    def __init__(self, env, size=(1, 1, 6, 12,), discount_rate=0.97, learning_rate=0.01):\n",
        "        super().__init__(env)        \n",
        "        \n",
        "        self.eps = 1.0\n",
        "        self.discount_rate = discount_rate\n",
        "        self.learning_rate = learning_rate\n",
        "        \n",
        "        self.state_size = size\n",
        "        \n",
        "        self.q_table = 1e-4*np.zeros(self.state_size + (self.action_size,))\n",
        "        print(\"QTable constructed with size: {}\".format(self.q_table.size))\n",
        "        \n",
        "    def discretize(self, state):\n",
        "        upper_bounds = [self.state_high[0], 0.5, self.state_high[2], math.radians(50)]\n",
        "        lower_bounds = [self.state_low[0], -0.5, self.state_low[2], -math.radians(50)]\n",
        "        ratios = [(state[i] + abs(lower_bounds[i])) / (upper_bounds[i] - lower_bounds[i]) for i in range(len(state))]\n",
        "        new_obs = [int(round((self.state_size[i] - 1) * ratios[i])) for i in range(len(state))]\n",
        "        new_obs = [min(self.state_size[i] - 1, max(0, new_obs[i])) for i in range(len(state))]\n",
        "        return tuple(new_obs)       \n",
        "        \n",
        "    def get_action(self, state): #epsilon greedy policy\n",
        "        state = self.discretize(state)\n",
        "        q_state = self.q_table[state]\n",
        "        action_greedy = np.argmax(q_state)\n",
        "        action_random = super().get_action_random(state)\n",
        "        return action_random if random.random() < self.eps else action_greedy  \n",
        "    \n",
        "    def train(self, experience):\n",
        "        state, action, next_state, reward, done = experience\n",
        "        state = self.discretize(state)\n",
        "        next_state = self.discretize(next_state)\n",
        "        \n",
        "        q_next = self.q_table[next_state]\n",
        "        q_next = np.zeros([self.action_size]) if done else q_next\n",
        "        q_target = reward + self.discount_rate * np.max(q_next)\n",
        "        #print((*state,action))\n",
        "        q_update = q_target - self.q_table[(*state,action)]      #Like TD error\n",
        "        self.q_table[(*state,action)] += self.learning_rate * q_update #Like TD update\n",
        "        \n",
        "        if done:\n",
        "            self.eps = self.eps * 0.99\n",
        "        \n",
        "myagent = QLAgent(env)"
      ],
      "execution_count": 12,
      "outputs": [
        {
          "output_type": "stream",
          "text": [
            "||Action-Space|| = 2\n",
            "||State-Space|| range: [-4.8000002e+00 -3.4028235e+38 -4.1887903e-01 -3.4028235e+38] [4.8000002e+00 3.4028235e+38 4.1887903e-01 3.4028235e+38]\n",
            "QTable constructed with size: 144\n"
          ],
          "name": "stdout"
        },
        {
          "output_type": "stream",
          "text": [
            "/content/gym/gym/logger.py:30: UserWarning: \u001b[33mWARN: Box bound precision lowered by casting to float32\u001b[0m\n",
            "  warnings.warn(colorize('%s: %s'%('WARN', msg % args), 'yellow'))\n"
          ],
          "name": "stderr"
        }
      ]
    },
    {
      "cell_type": "code",
      "metadata": {
        "id": "mh6IoU2KtJcn",
        "colab_type": "code",
        "colab": {
          "base_uri": "https://localhost:8080/",
          "height": 204
        },
        "outputId": "5ceac0ba-b4d0-48cd-8dac-d54a549ec8d7"
      },
      "source": [
        "n = int(input(\"Enter the no. of episodes for simulation: \"))\n",
        "\n",
        "total_reward = 0\n",
        "for ep in range(n):\n",
        "    state = env.reset()\n",
        "    for t in range(10000):\n",
        "        env.render()        \n",
        "        action = myagent.get_action(state)\n",
        "        next_state, reward, done, info = env.step(action)     \n",
        "        \n",
        "        myagent.train((state,action,next_state,reward,done))\n",
        "        state = next_state\n",
        "        total_reward += reward\n",
        "        \n",
        "        #print(\"In State: \", state)   \n",
        "        #print(\"In State (Discrete): \", myagent.discretize(state), \"Action: \", action)       \n",
        "        #print(\"Episode: {}, Total reward: {}, eps: {}\".format(ep,total_reward,myagent.eps))\n",
        "        #print(myagent.q_table)\n",
        "        #time.sleep(0.05)\n",
        "        #clear_output(wait=True)\n",
        "        \n",
        "        if done:\n",
        "            print(\"Episode {} done in {} timesteps! Total reward: {}, eps: {}\\n\".format(ep+1, t+1, total_reward, myagent.eps))\n",
        "            break\n",
        "    else:\n",
        "        print(\"Episode {} NOT done in limit of {} timesteps! Agent Terminated!\\n\".format(ep+1, t+1))  \n",
        "    \n",
        "env.close()   "
      ],
      "execution_count": 13,
      "outputs": [
        {
          "output_type": "stream",
          "text": [
            "Enter the no. of episodes for simulation: 5\n",
            "Episode 1 done in 18 timesteps! Total reward: 18.0, eps: 0.99\n",
            "\n",
            "Episode 2 done in 12 timesteps! Total reward: 30.0, eps: 0.9801\n",
            "\n",
            "Episode 3 done in 14 timesteps! Total reward: 44.0, eps: 0.9702989999999999\n",
            "\n",
            "Episode 4 done in 28 timesteps! Total reward: 72.0, eps: 0.96059601\n",
            "\n",
            "Episode 5 done in 19 timesteps! Total reward: 91.0, eps: 0.9509900498999999\n",
            "\n"
          ],
          "name": "stdout"
        }
      ]
    },
    {
      "cell_type": "code",
      "metadata": {
        "id": "aRJH8vTAtJcs",
        "colab_type": "code",
        "colab": {
          "base_uri": "https://localhost:8080/",
          "height": 1000
        },
        "outputId": "06b81711-6366-4ab9-9d50-41925c0eb7f0"
      },
      "source": [
        "print(myagent.q_table)"
      ],
      "execution_count": 14,
      "outputs": [
        {
          "output_type": "stream",
          "text": [
            "[[[[[0.         0.        ]\n",
            "    [0.         0.        ]\n",
            "    [0.         0.        ]\n",
            "    [0.         0.        ]\n",
            "    [0.         0.        ]\n",
            "    [0.         0.        ]\n",
            "    [0.         0.        ]\n",
            "    [0.         0.        ]\n",
            "    [0.         0.        ]\n",
            "    [0.         0.        ]\n",
            "    [0.         0.        ]\n",
            "    [0.         0.        ]]\n",
            "\n",
            "   [[0.         0.01      ]\n",
            "    [0.         0.        ]\n",
            "    [0.         0.        ]\n",
            "    [0.         0.        ]\n",
            "    [0.         0.        ]\n",
            "    [0.         0.        ]\n",
            "    [0.         0.        ]\n",
            "    [0.         0.        ]\n",
            "    [0.         0.        ]\n",
            "    [0.         0.        ]\n",
            "    [0.         0.        ]\n",
            "    [0.         0.        ]]\n",
            "\n",
            "   [[0.02019001 0.03969387]\n",
            "    [0.         0.        ]\n",
            "    [0.010097   0.01      ]\n",
            "    [0.         0.01009794]\n",
            "    [0.01       0.01      ]\n",
            "    [0.         0.01      ]\n",
            "    [0.02979894 0.0199    ]\n",
            "    [0.02009679 0.010097  ]\n",
            "    [0.010097   0.        ]\n",
            "    [0.         0.010097  ]\n",
            "    [0.         0.        ]\n",
            "    [0.         0.        ]]\n",
            "\n",
            "   [[0.         0.        ]\n",
            "    [0.         0.        ]\n",
            "    [0.         0.        ]\n",
            "    [0.         0.        ]\n",
            "    [0.04036505 0.        ]\n",
            "    [0.04008271 0.        ]\n",
            "    [0.03028195 0.04008258]\n",
            "    [0.04027459 0.03008795]\n",
            "    [0.04009728 0.02038483]\n",
            "    [0.02028785 0.04987596]\n",
            "    [0.05204063 0.01019591]\n",
            "    [0.10867897 0.07945615]]\n",
            "\n",
            "   [[0.         0.        ]\n",
            "    [0.         0.        ]\n",
            "    [0.         0.        ]\n",
            "    [0.         0.        ]\n",
            "    [0.         0.        ]\n",
            "    [0.         0.        ]\n",
            "    [0.         0.        ]\n",
            "    [0.         0.        ]\n",
            "    [0.         0.        ]\n",
            "    [0.         0.        ]\n",
            "    [0.         0.        ]\n",
            "    [0.03969109 0.03978514]]\n",
            "\n",
            "   [[0.         0.        ]\n",
            "    [0.         0.        ]\n",
            "    [0.         0.        ]\n",
            "    [0.         0.        ]\n",
            "    [0.         0.        ]\n",
            "    [0.         0.        ]\n",
            "    [0.         0.        ]\n",
            "    [0.         0.        ]\n",
            "    [0.         0.        ]\n",
            "    [0.         0.        ]\n",
            "    [0.         0.        ]\n",
            "    [0.         0.        ]]]]]\n"
          ],
          "name": "stdout"
        }
      ]
    },
    {
      "cell_type": "code",
      "metadata": {
        "id": "EB-vLKTstJcw",
        "colab_type": "code",
        "colab": {
          "base_uri": "https://localhost:8080/",
          "height": 1000
        },
        "outputId": "02e52006-110d-4d60-8556-30a4009f62a2"
      },
      "source": [
        "print(myagent.q_table)"
      ],
      "execution_count": 15,
      "outputs": [
        {
          "output_type": "stream",
          "text": [
            "[[[[[0.         0.        ]\n",
            "    [0.         0.        ]\n",
            "    [0.         0.        ]\n",
            "    [0.         0.        ]\n",
            "    [0.         0.        ]\n",
            "    [0.         0.        ]\n",
            "    [0.         0.        ]\n",
            "    [0.         0.        ]\n",
            "    [0.         0.        ]\n",
            "    [0.         0.        ]\n",
            "    [0.         0.        ]\n",
            "    [0.         0.        ]]\n",
            "\n",
            "   [[0.         0.01      ]\n",
            "    [0.         0.        ]\n",
            "    [0.         0.        ]\n",
            "    [0.         0.        ]\n",
            "    [0.         0.        ]\n",
            "    [0.         0.        ]\n",
            "    [0.         0.        ]\n",
            "    [0.         0.        ]\n",
            "    [0.         0.        ]\n",
            "    [0.         0.        ]\n",
            "    [0.         0.        ]\n",
            "    [0.         0.        ]]\n",
            "\n",
            "   [[0.02019001 0.03969387]\n",
            "    [0.         0.        ]\n",
            "    [0.010097   0.01      ]\n",
            "    [0.         0.01009794]\n",
            "    [0.01       0.01      ]\n",
            "    [0.         0.01      ]\n",
            "    [0.02979894 0.0199    ]\n",
            "    [0.02009679 0.010097  ]\n",
            "    [0.010097   0.        ]\n",
            "    [0.         0.010097  ]\n",
            "    [0.         0.        ]\n",
            "    [0.         0.        ]]\n",
            "\n",
            "   [[0.         0.        ]\n",
            "    [0.         0.        ]\n",
            "    [0.         0.        ]\n",
            "    [0.         0.        ]\n",
            "    [0.04036505 0.        ]\n",
            "    [0.04008271 0.        ]\n",
            "    [0.03028195 0.04008258]\n",
            "    [0.04027459 0.03008795]\n",
            "    [0.04009728 0.02038483]\n",
            "    [0.02028785 0.04987596]\n",
            "    [0.05204063 0.01019591]\n",
            "    [0.10867897 0.07945615]]\n",
            "\n",
            "   [[0.         0.        ]\n",
            "    [0.         0.        ]\n",
            "    [0.         0.        ]\n",
            "    [0.         0.        ]\n",
            "    [0.         0.        ]\n",
            "    [0.         0.        ]\n",
            "    [0.         0.        ]\n",
            "    [0.         0.        ]\n",
            "    [0.         0.        ]\n",
            "    [0.         0.        ]\n",
            "    [0.         0.        ]\n",
            "    [0.03969109 0.03978514]]\n",
            "\n",
            "   [[0.         0.        ]\n",
            "    [0.         0.        ]\n",
            "    [0.         0.        ]\n",
            "    [0.         0.        ]\n",
            "    [0.         0.        ]\n",
            "    [0.         0.        ]\n",
            "    [0.         0.        ]\n",
            "    [0.         0.        ]\n",
            "    [0.         0.        ]\n",
            "    [0.         0.        ]\n",
            "    [0.         0.        ]\n",
            "    [0.         0.        ]]]]]\n"
          ],
          "name": "stdout"
        }
      ]
    },
    {
      "cell_type": "code",
      "metadata": {
        "id": "m5ZENIRltJc1",
        "colab_type": "code",
        "colab": {}
      },
      "source": [
        ""
      ],
      "execution_count": 0,
      "outputs": []
    },
    {
      "cell_type": "markdown",
      "metadata": {
        "id": "RhV2ilswtJc4",
        "colab_type": "text"
      },
      "source": [
        "## Larger Q-Table\n",
        "\n",
        ">1. During Training\n",
        "![ezgif.com-video-to-gif%20%281%29.gif](attachment:ezgif.com-video-to-gif%20%281%29.gif)\n",
        "\n",
        ">2. After Training for 100 episodes\n",
        "![ezgif.com-video-to-gif.gif](attachment:ezgif.com-video-to-gif.gif)"
      ]
    },
    {
      "cell_type": "code",
      "metadata": {
        "id": "JoRxgq1ZtJc6",
        "colab_type": "code",
        "colab": {
          "base_uri": "https://localhost:8080/",
          "height": 289
        },
        "outputId": "366cfc54-7a10-4add-c918-20496a945670"
      },
      "source": [
        "env = gym.make(\"CartPole-v1\")\n",
        "env = gym.wrappers.Monitor(env, './videos/' + str(time.time()) + '/',video_callable=lambda episode_id: True, force = True)\n",
        "\n",
        "myagent = QLAgent(env, size=(2, 2, 24, 48,), discount_rate=0.97, learning_rate=0.01)\n",
        "\n",
        "n = int(input(\"Enter the no. of episodes for simulation: \"))\n",
        "\n",
        "total_reward = 0\n",
        "for ep in range(n):\n",
        "    state = env.reset()\n",
        "    for t in range(10000):\n",
        "        env.render()        \n",
        "        action = myagent.get_action(state)\n",
        "        next_state, reward, done, info = env.step(action)     \n",
        "        \n",
        "        myagent.train((state,action,next_state,reward,done))\n",
        "        state = next_state\n",
        "        total_reward += reward\n",
        "        \n",
        "        #print(\"In State: \", state)   \n",
        "        #print(\"In State (Discrete): \", myagent.discretize(state), \"Action: \", action)       \n",
        "        #print(\"Episode: {}, Total reward: {}, eps: {}\".format(ep,total_reward,myagent.eps))\n",
        "        #print(myagent.q_table)\n",
        "        #time.sleep(0.05)\n",
        "        #clear_output(wait=True)\n",
        "        \n",
        "        if done:\n",
        "            print(\"Episode {} done in {} timesteps! Total reward: {}, eps: {}\\n\".format(ep+1, t+1, total_reward, myagent.eps))\n",
        "            break\n",
        "    else:\n",
        "        print(\"Episode {} NOT done in limit of {} timesteps! Agent Terminated!\\n\".format(ep+1, t+1))  \n",
        "    \n",
        "env.close()   "
      ],
      "execution_count": 16,
      "outputs": [
        {
          "output_type": "stream",
          "text": [
            "/content/gym/gym/logger.py:30: UserWarning: \u001b[33mWARN: Box bound precision lowered by casting to float32\u001b[0m\n",
            "  warnings.warn(colorize('%s: %s'%('WARN', msg % args), 'yellow'))\n"
          ],
          "name": "stderr"
        },
        {
          "output_type": "stream",
          "text": [
            "||Action-Space|| = 2\n",
            "||State-Space|| range: [-4.8000002e+00 -3.4028235e+38 -4.1887903e-01 -3.4028235e+38] [4.8000002e+00 3.4028235e+38 4.1887903e-01 3.4028235e+38]\n",
            "QTable constructed with size: 9216\n",
            "Enter the no. of episodes for simulation: 5\n",
            "Episode 1 done in 12 timesteps! Total reward: 12.0, eps: 0.99\n",
            "\n",
            "Episode 2 done in 29 timesteps! Total reward: 41.0, eps: 0.9801\n",
            "\n",
            "Episode 3 done in 19 timesteps! Total reward: 60.0, eps: 0.9702989999999999\n",
            "\n",
            "Episode 4 done in 14 timesteps! Total reward: 74.0, eps: 0.96059601\n",
            "\n",
            "Episode 5 done in 18 timesteps! Total reward: 92.0, eps: 0.9509900498999999\n",
            "\n"
          ],
          "name": "stdout"
        }
      ]
    },
    {
      "cell_type": "code",
      "metadata": {
        "id": "jLBBfMOctJc_",
        "colab_type": "code",
        "colab": {}
      },
      "source": [
        ""
      ],
      "execution_count": 0,
      "outputs": []
    }
  ]
}