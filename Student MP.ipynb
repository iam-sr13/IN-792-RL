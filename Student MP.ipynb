{
 "cells": [
  {
   "cell_type": "markdown",
   "metadata": {},
   "source": [
    "# Markov Chain simulation on a sample student state space"
   ]
  },
  {
   "cell_type": "code",
   "execution_count": null,
   "metadata": {},
   "outputs": [],
   "source": []
  },
  {
   "cell_type": "code",
   "execution_count": 13,
   "metadata": {},
   "outputs": [],
   "source": [
    "import random\n",
    "import math\n",
    "from matplotlib import pyplot as plt\n",
    "from statistics import mean \n",
    "\n",
    "class MarkovChain:\n",
    "    def __init__(self):\n",
    "        self.states=[\"c1\",\"c2\",\"c3\",\"pass\",\"pub\",\"fb\",\"sleep\"]\n",
    "        self.start=[0]\n",
    "        self.terminal=[6]\n",
    "        self.current=random.choice(self.start)\n",
    "        \n",
    "        self.P=[[0,0.5,0,0,0,0.5,0],\n",
    "                [0,0,0.8,0,0,0,0.2],\n",
    "                [0,0,0,0.6,0.4,0,0],\n",
    "                [0,0,0,0,0,0,1.0],\n",
    "                [0.2,0.4,0.4,0,0,0,0],\n",
    "                [0.1,0,0,0,0,0.9,0],\n",
    "                [0,0,0,0,0,0,1.0]]\n",
    "        \n",
    "    def transition(self):\n",
    "        r = random.random()\n",
    "        s = 0\n",
    "        for state, prob in enumerate(self.P[self.current]):\n",
    "            s += prob\n",
    "            if s >= r:\n",
    "                self.current=state\n",
    "                break\n",
    "        self.current=state       \n",
    "\n",
    "    def reset(self):\n",
    "        self.current=random.choice(self.start)\n",
    "        \n",
    "        \n",
    "        \n",
    "        "
   ]
  },
  {
   "cell_type": "markdown",
   "metadata": {},
   "source": [
    "## Sample Episodes for Student Markov Chain"
   ]
  },
  {
   "cell_type": "code",
   "execution_count": 15,
   "metadata": {},
   "outputs": [
    {
     "name": "stdout",
     "output_type": "stream",
     "text": [
      "Welcome To Student Markov Process Simulator!\n",
      "\n",
      "Enter no. of random walks: 5\n",
      "RW 1:\n",
      "->c1->c2->c3->pub->c1->fb->fb->c1->fb->fb->fb->c1->fb->fb->fb->fb->fb->fb->fb->fb->fb->fb->fb->fb->fb->c1->fb->fb->c1->c2->c3->pass->sleep\n",
      "RW 2:\n",
      "->c1->fb->fb->fb->fb->fb->fb->fb->fb->fb->fb->fb->fb->c1->c2->c3->pub->c3->pub->c2->c3->pass->sleep\n",
      "RW 3:\n",
      "->c1->fb->fb->fb->fb->fb->fb->fb->fb->fb->fb->fb->fb->fb->fb->fb->fb->fb->fb->fb->fb->fb->fb->fb->fb->fb->c1->fb->c1->c2->sleep\n",
      "RW 4:\n",
      "->c1->fb->fb->fb->fb->fb->fb->fb->fb->fb->fb->fb->fb->fb->fb->fb->fb->fb->fb->c1->fb->fb->fb->fb->c1->c2->c3->pub->c2->c3->pass->sleep\n",
      "RW 5:\n",
      "->c1->fb->fb->fb->fb->fb->fb->fb->fb->fb->fb->fb->fb->fb->c1->c2->c3->pass->sleep\n"
     ]
    }
   ],
   "source": [
    "print(\"Welcome To Student Markov Process Simulator!\")\n",
    "print()\n",
    "n = int(input(\"Enter no. of random walks: \"))\n",
    "    \n",
    "studmp = MarkovChain()\n",
    "\n",
    "for i in range(n):\n",
    "    print(\"RW {}:\".format(i+1))\n",
    "    chainwalk=\"\"\n",
    "    studmp.reset()\n",
    "    while(studmp.current not in studmp.terminal):\n",
    "        chainwalk=chainwalk+\"->\"+studmp.states[studmp.current]\n",
    "        studmp.transition()\n",
    "    chainwalk=chainwalk+\"->\"+studmp.states[studmp.current]\n",
    "    print(chainwalk)"
   ]
  },
  {
   "cell_type": "code",
   "execution_count": null,
   "metadata": {},
   "outputs": [],
   "source": []
  }
 ],
 "metadata": {
  "kernelspec": {
   "display_name": "Python 3",
   "language": "python",
   "name": "python3"
  },
  "language_info": {
   "codemirror_mode": {
    "name": "ipython",
    "version": 3
   },
   "file_extension": ".py",
   "mimetype": "text/x-python",
   "name": "python",
   "nbconvert_exporter": "python",
   "pygments_lexer": "ipython3",
   "version": "3.7.4"
  }
 },
 "nbformat": 4,
 "nbformat_minor": 2
}
