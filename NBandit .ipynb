{
 "cells": [
  {
   "cell_type": "markdown",
   "metadata": {},
   "source": [
    "# Reinforcement Learning Agent Simulation for N-Armed Bandit "
   ]
  },
  {
   "cell_type": "code",
   "execution_count": null,
   "metadata": {},
   "outputs": [],
   "source": []
  },
  {
   "cell_type": "code",
   "execution_count": 9,
   "metadata": {},
   "outputs": [],
   "source": [
    "import random\n",
    "from matplotlib import pyplot as plt\n",
    "from statistics import mean \n",
    "\n",
    "random.seed(1)\n",
    "\n",
    "class rl_util:\n",
    "    def argmax(l):\n",
    "        f = lambda i: l[i]\n",
    "        return max(range(len(l)), key=f)\n",
    "\n",
    "    def rand_vec(mu, sig):\n",
    "        rvec = []\n",
    "        for i in range(len(mu)):\n",
    "            rvec.append(random.gauss(mu[i], sig[i]))\n",
    "        return rvec\n",
    "\n",
    "    def alpha_vec(k):\n",
    "        alph = []\n",
    "        for i in range(len(k)):\n",
    "            alph.append(1/(k[i]+1))                        \n",
    "        return alph\n",
    "\n",
    "    def Q(alpha, r, q):\n",
    "        return q + alpha * (r - q)\n",
    "\n",
    "    def Q_vec(alvec, rvec, qvec):\n",
    "        Qvec = []\n",
    "        for i in range(len(alvec)):\n",
    "            Qvec.append(rl_util.Q(alvec[i], rvec[i], qvec[i]))\n",
    "        return Qvec\n"
   ]
  },
  {
   "cell_type": "code",
   "execution_count": 31,
   "metadata": {},
   "outputs": [
    {
     "name": "stdout",
     "output_type": "stream",
     "text": [
      "Enter N for N-armed-bandit: 3\n",
      "Now enter n reward means: \n",
      "mean1 : 4\n",
      "variance1 : 2\n",
      "mean2 : 6\n",
      "variance2 : 2\n",
      "mean3 : 8\n",
      "variance3 : 2\n",
      "[3.7695170025991187, 6.3179749690844265, 8.147196679339029]\n",
      "[3.7695170025991187, 6.3179749690844265, 8.125222282253576]\n",
      "[3.7695170025991187, 6.3179749690844265, 8.125939302039157]\n",
      "[3.7695170025991187, 6.3179749690844265, 8.126746970350007]\n",
      "[3.7695170025991187, 6.3179749690844265, 8.126498393270461]\n",
      "[3.7695170025991187, 6.3179749690844265, 8.142927855679433]\n",
      "[3.7695170025991187, 6.3179749690844265, 8.114544545558191]\n",
      "[3.7695170025991187, 6.3179749690844265, 8.125169840073054]\n",
      "[3.7695170025991187, 6.3179749690844265, 8.1193304172479]\n",
      "[3.7695170025991187, 6.3179749690844265, 8.117648886186672]\n"
     ]
    },
    {
     "data": {
      "image/png": "[encoded data removed]",
      "text/plain": [
       "<Figure size 432x288 with 1 Axes>"
      ]
     },
     "metadata": {
      "needs_background": "light"
     },
     "output_type": "display_data"
    }
   ],
   "source": [
    "# greedy action\n",
    "\n",
    "def n_armed_bandit_greedy(avec,svec, sz=1000):\n",
    "    sample = 100\n",
    "       \n",
    "    rvec = [[random.gauss(avec[i], svec[i]) for k in range(sample)] for i in range(len(avec))]\n",
    "    qvec = [mean(rvec[i]) for i in range(len(avec))]\n",
    "    steps = [0 for i in range(len(avec))]    \n",
    "    pos = [2*i for i in range(len(avec))]\n",
    "    plt.violinplot(rvec, pos, widths=0.3, showmeans=True)\n",
    "    \n",
    "    for k in range(1, sz+1):       \n",
    "        i = rl_util.argmax(qvec)                # take action \n",
    "        steps[i] += 1                           # increase step count for that bandit \n",
    "        rvec[i].append(random.gauss(avec[i], svec[i]))   # environment will generate next reward  \n",
    "        qvec[i] = mean(rvec[i])                 # estimate value\n",
    "        \n",
    "        print(qvec)\n",
    "\n",
    "\n",
    "if __name__ == '__main__':\n",
    "    n = int(input(\"Enter N for N-armed-bandit: \"))\n",
    "    print(\"Now enter n reward means: \")\n",
    "    avec = []\n",
    "    svec = []\n",
    "    for i in range(1, n+1):\n",
    "        avec.append(int(input(\"mean{} : \".format(i))))\n",
    "        svec.append(int(input(\"variance{} : \".format(i))))\n",
    "\n",
    "    n_armed_bandit_greedy(avec,svec,10)"
   ]
  },
  {
   "cell_type": "code",
   "execution_count": 29,
   "metadata": {},
   "outputs": [
    {
     "data": {
      "text/plain": [
       "{'bodies': [<matplotlib.collections.PolyCollection at 0x7fbf77350ad0>,\n",
       "  <matplotlib.collections.PolyCollection at 0x7fbf77388510>,\n",
       "  <matplotlib.collections.PolyCollection at 0x7fbf773888d0>,\n",
       "  <matplotlib.collections.PolyCollection at 0x7fbf77388bd0>,\n",
       "  <matplotlib.collections.PolyCollection at 0x7fbf77388ed0>,\n",
       "  <matplotlib.collections.PolyCollection at 0x7fbf77318390>],\n",
       " 'cmeans': <matplotlib.collections.LineCollection at 0x7fbf7737af50>,\n",
       " 'cmaxes': <matplotlib.collections.LineCollection at 0x7fbf773188d0>,\n",
       " 'cmins': <matplotlib.collections.LineCollection at 0x7fbf77318d50>,\n",
       " 'cbars': <matplotlib.collections.LineCollection at 0x7fbf77318890>,\n",
       " 'cmedians': <matplotlib.collections.LineCollection at 0x7fbf77318d10>}"
      ]
     },
     "execution_count": 29,
     "metadata": {},
     "output_type": "execute_result"
    },
    {
     "data": {
      "image/png": "[encoded data removed]",
      "text/plain": [
       "<Figure size 432x288 with 1 Axes>"
      ]
     },
     "metadata": {
      "needs_background": "light"
     },
     "output_type": "display_data"
    }
   ],
   "source": [
    "import numpy as np\n",
    "\n",
    "fs = 10  # fontsize\n",
    "pos = [1, 2, 4, 5, 7, 8]\n",
    "data = [np.random.normal(0, std, size=100) for std in pos]\n",
    "plt.violinplot(data, pos, points=20, widths=0.3, showmeans=True, showextrema=True, showmedians=True)"
   ]
  },
  {
   "cell_type": "code",
   "execution_count": 8,
   "metadata": {},
   "outputs": [
    {
     "name": "stdout",
     "output_type": "stream",
     "text": [
      "[2.4815140381379894, 5.303554707826984, 5.022327150050774] [1.0, 0.5, 1.0]\n",
      "[3.760375141441411, 5.71020352448191, 6.128654959432034] [1.0, 0.5, 0.5]\n",
      "[-2.300464190990397, 4.975691350399081, 7.325985485553] [1.0, 0.5, 0.3333333333333333]\n",
      "[-3.2010915755093015, 4.941907281296738, 6.556651466938337] [1.0, 0.5, 0.25]\n",
      "[1.6065966740668438, 4.84869284727435, 6.675416991839911] [1.0, 0.5, 0.2]\n",
      "[6.503622188910202, 5.134701645441115, 7.273818691618019] [1.0, 0.5, 0.16666666666666666]\n",
      "[1.5757618570896383, 4.827557518807074, 7.354452437103679] [1.0, 0.5, 0.14285714285714285]\n",
      "[-6.507372360040112, 4.893834352057503, 7.349579171538933] [1.0, 0.5, 0.125]\n",
      "[-1.7056262320406237, 5.179099787315027, 7.166070574014826] [1.0, 0.5, 0.1111111111111111]\n",
      "[-5.377300570830871, 4.98289069847354, 6.930097011502784] [1.0, 0.5, 0.1]\n",
      "[0.43821238219956093, 4.915303139884085, 7.18728238019927] [1.0, 0.5, 0.09090909090909091]\n",
      "[2.3094445368247705, 4.9434087574502055, 7.2409847849388616] [1.0, 0.5, 0.08333333333333333]\n",
      "[-3.4362770974738437, 5.591766314036887, 7.041388232811209] [1.0, 0.5, 0.07692307692307693]\n",
      "[3.317285213405021, 4.732492909284125, 6.88797600496251] [1.0, 0.5, 0.07142857142857142]\n",
      "[0.8111363741854989, 5.814120685951286, 6.99564406667497] [1.0, 0.5, 0.06666666666666667]\n",
      "[0.18741051785399865, 5.264905242877527, 6.842414631000774] [1.0, 0.5, 0.0625]\n",
      "[1.897519968445781, 4.845916406563683, 6.942499704392129] [1.0, 0.5, 0.058823529411764705]\n",
      "[-2.071202680596766, 4.755636601501926, 6.846822239796227] [1.0, 0.5, 0.05555555555555555]\n",
      "[-0.15612537700557771, 5.233399077402122, 6.869366088081254] [1.0, 0.5, 0.05263157894736842]\n"
     ]
    }
   ],
   "source": [
    "avec = [2,5,7]\n",
    "svec = [3,1,2]\n",
    "steps = [0 for i in range(len(avec))]\n",
    "qvec = [0 for i in range(len(avec))]\n",
    "for k in range(1, 20):\n",
    "        rvec = rl_util.rand_vec(avec,svec)\n",
    "        qvec = rl_util.Q_vec(rl_util.alpha_vec(steps), rvec, qvec)\n",
    "        i = rl_util.argmax(qvec)\n",
    "        steps[i] += 1\n",
    "        print(qvec, rl_util.alpha_vec(steps))\n",
    "        "
   ]
  },
  {
   "cell_type": "code",
   "execution_count": null,
   "metadata": {},
   "outputs": [],
   "source": []
  },
  {
   "cell_type": "code",
   "execution_count": null,
   "metadata": {},
   "outputs": [],
   "source": [
    "# epsilon greedy\n"
   ]
  }
 ],
 "metadata": {
  "kernelspec": {
   "display_name": "Python 3",
   "language": "python",
   "name": "python3"
  },
  "language_info": {
   "codemirror_mode": {
    "name": "ipython",
    "version": 3
   },
   "file_extension": ".py",
   "mimetype": "text/x-python",
   "name": "python",
   "nbconvert_exporter": "python",
   "pygments_lexer": "ipython3",
   "version": "3.7.4"
  }
 },
 "nbformat": 4,
 "nbformat_minor": 2
}
