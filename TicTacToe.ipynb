{
 "cells": [
  {
   "cell_type": "markdown",
   "metadata": {},
   "source": [
    "# Reinforcement Learning Agent Simulation for TicTacToe"
   ]
  },
  {
   "cell_type": "code",
   "execution_count": null,
   "metadata": {},
   "outputs": [],
   "source": []
  },
  {
   "cell_type": "code",
   "execution_count": 38,
   "metadata": {},
   "outputs": [],
   "source": [
    "import random\n",
    "import math\n",
    "from matplotlib import pyplot as plt\n",
    "from statistics import mean \n",
    "\n",
    "class TicTacToe:\n",
    "    def player_input(state):\n",
    "        chk = 1\n",
    "        while chk:\n",
    "            chk=0\n",
    "            plmove = int(input(\"Enter your move (1-9): \"))\n",
    "            if not TicTacToe.check_move(plmove-1, state):\n",
    "                chk = 1\n",
    "                print(\"Beep Bop! Invalid Input!\")\n",
    "        state[plmove - 1] = plsym\n",
    "        return state\n",
    "        \n",
    "    def pc_input(state):\n",
    "        chk = 1\n",
    "        print(\"PCs Turn!\")\n",
    "        while chk:\n",
    "            chk=0\n",
    "            pcmove = random.randrange(9)\n",
    "            if not TicTacToe.check_move(pcmove, state):\n",
    "                chk = 1                \n",
    "        state[pcmove] = pcsym\n",
    "        return state\n",
    "    \n",
    "    def display_board(state):\n",
    "        for i in range(0,9,3):\n",
    "            print(\"{}|{}|{}\".format(state[9-i-3],state[9-i-2],state[9-i-1]))\n",
    "        print(\"  \")\n",
    "    \n",
    "    def check_status(state):\n",
    "        if TicTacToe.check_win(state, plsym):\n",
    "            print(\"You Won!\")\n",
    "            return 0\n",
    "        elif TicTacToe.check_win(state, pcsym):\n",
    "            print(\"You Lost!\")\n",
    "            return 0\n",
    "        elif \"_\" not in state:\n",
    "            print(\"Draw! Game Over!\")\n",
    "            return 0\n",
    "        else:\n",
    "            return 1    \n",
    "    \n",
    "    def check_move(move, state):\n",
    "        if state[move] == '_':\n",
    "            return True\n",
    "        else:\n",
    "            return False\n",
    "        \n",
    "    def check_win(state, sym):\n",
    "        winstr = sym+sym+sym\n",
    "        for i in range(0,9,3):\n",
    "            if state[i]+state[i+1]+state[i+2] == winstr:\n",
    "                return True\n",
    "        for i in range(0,3):\n",
    "            if state[i]+state[i+3]+state[i+6] == winstr:\n",
    "                return True\n",
    "        if (state[0]+state[4]+state[8] == winstr) or (state[2]+state[4]+state[6] == winstr):\n",
    "            return True\n",
    "        return False\n",
    "    "
   ]
  },
  {
   "cell_type": "code",
   "execution_count": 39,
   "metadata": {},
   "outputs": [
    {
     "name": "stdout",
     "output_type": "stream",
     "text": [
      "Let's Play TicTacToe!\n",
      "Enter O or X: x\n",
      "You chose X. Time for a toss!\n",
      "PC won the toss!\n",
      "_|_|_\n",
      "_|_|_\n",
      "_|_|_\n",
      "  \n",
      "PCs Turn!\n",
      "_|_|_\n",
      "_|_|_\n",
      "O|_|_\n",
      "  \n",
      "Enter your move (1-9): 5\n",
      "_|_|_\n",
      "_|X|_\n",
      "O|_|_\n",
      "  \n",
      "PCs Turn!\n",
      "_|_|_\n",
      "_|X|O\n",
      "O|_|_\n",
      "  \n",
      "Enter your move (1-9): 3\n",
      "_|_|_\n",
      "_|X|O\n",
      "O|_|X\n",
      "  \n",
      "PCs Turn!\n",
      "_|_|_\n",
      "O|X|O\n",
      "O|_|X\n",
      "  \n",
      "Enter your move (1-9): 7\n",
      "You Won!\n"
     ]
    }
   ],
   "source": [
    "print(\"Let's Play TicTacToe!\")\n",
    "chk = 1\n",
    "while chk:\n",
    "    chk=0\n",
    "    sym = input(\"Enter O or X: \")\n",
    "    if sym not in ('o','O','x','X'):\n",
    "        chk = 1\n",
    "        print(\"Beep Bop! Invalid Input!\")\n",
    "        \n",
    "plsym = 'X' if (sym=='X' or sym=='x') else 'O'\n",
    "pcsym = 'O' if (sym=='X' or sym=='x') else 'X'\n",
    "\n",
    "print(\"You chose {}. Time for a toss!\".format(plsym))\n",
    "toss = random.random()\n",
    "turn = 0\n",
    "if toss<0.5:\n",
    "    print(\"You won the toss! So start the game first!\")\n",
    "    turn = 1\n",
    "else :\n",
    "    print(\"PC won the toss!\")\n",
    "\n",
    "gameon = 1\n",
    "state = [\"_\" for i in range(9)]\n",
    "while gameon:\n",
    "    if turn:\n",
    "        TicTacToe.display_board(state)\n",
    "        state = TicTacToe.player_input(state)        \n",
    "        gameon = TicTacToe.check_status(state)\n",
    "        turn = 0\n",
    "    else:\n",
    "        TicTacToe.display_board(state)\n",
    "        state = TicTacToe.pc_input(state)        \n",
    "        gameon = TicTacToe.check_status(state)\n",
    "        turn = 1\n",
    "    "
   ]
  },
  {
   "cell_type": "code",
   "execution_count": 26,
   "metadata": {},
   "outputs": [
    {
     "name": "stdout",
     "output_type": "stream",
     "text": [
      "None\n"
     ]
    }
   ],
   "source": [
    "print(state)"
   ]
  },
  {
   "cell_type": "code",
   "execution_count": null,
   "metadata": {},
   "outputs": [],
   "source": []
  }
 ],
 "metadata": {
  "kernelspec": {
   "display_name": "Python 3",
   "language": "python",
   "name": "python3"
  },
  "language_info": {
   "codemirror_mode": {
    "name": "ipython",
    "version": 3
   },
   "file_extension": ".py",
   "mimetype": "text/x-python",
   "name": "python",
   "nbconvert_exporter": "python",
   "pygments_lexer": "ipython3",
   "version": "3.7.4"
  }
 },
 "nbformat": 4,
 "nbformat_minor": 2
}
